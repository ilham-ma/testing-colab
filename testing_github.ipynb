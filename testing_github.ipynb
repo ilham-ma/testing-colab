{
  "nbformat": 4,
  "nbformat_minor": 0,
  "metadata": {
    "colab": {
      "name": "testing github.ipynb",
      "provenance": [],
      "authorship_tag": "ABX9TyNah6aOPuYlGXZ4bah6RYMt",
      "include_colab_link": true
    },
    "kernelspec": {
      "name": "python3",
      "display_name": "Python 3"
    },
    "language_info": {
      "name": "python"
    }
  },
  "cells": [
    {
      "cell_type": "markdown",
      "metadata": {
        "id": "view-in-github",
        "colab_type": "text"
      },
      "source": [
        "<a href=\"https://colab.research.google.com/github/ilham-mm/testing-colab/blob/second_branch/testing_github.ipynb\" target=\"_parent\"><img src=\"https://colab.research.google.com/assets/colab-badge.svg\" alt=\"Open In Colab\"/></a>"
      ]
    },
    {
      "cell_type": "code",
      "execution_count": 3,
      "metadata": {
        "colab": {
          "base_uri": "https://localhost:8080/"
        },
        "id": "2c1kQTaRcmYt",
        "outputId": "3608e5f7-c248-4aff-e649-5ad263a81b10"
      },
      "outputs": [
        {
          "output_type": "stream",
          "name": "stdout",
          "text": [
            "testing github\n",
            "tesing kedua\n",
            "testing new branch\n"
          ]
        }
      ],
      "source": [
        "print('testing github')\n",
        "print('tesing kedua')\n",
        "print('testing new branch')"
      ]
    }
  ]
}